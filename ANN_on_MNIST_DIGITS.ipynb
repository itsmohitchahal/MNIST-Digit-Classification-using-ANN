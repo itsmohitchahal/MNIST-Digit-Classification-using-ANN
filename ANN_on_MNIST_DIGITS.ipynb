{
 "cells": [
  {
   "cell_type": "code",
   "execution_count": 1,
   "metadata": {},
   "outputs": [],
   "source": [
    "import pandas as pd\n",
    "import numpy as np\n",
    "%matplotlib inline\n",
    "import matplotlib as mpl\n",
    "import matplotlib.pyplot as plt\n",
    "import pydot"
   ]
  },
  {
   "cell_type": "code",
   "execution_count": 2,
   "metadata": {},
   "outputs": [],
   "source": [
    "import tensorflow as tf\n",
    "from tensorflow import keras"
   ]
  },
  {
   "cell_type": "code",
   "execution_count": 3,
   "metadata": {},
   "outputs": [],
   "source": [
    "digit_mnist = keras.datasets.mnist"
   ]
  },
  {
   "cell_type": "code",
   "execution_count": 4,
   "metadata": {},
   "outputs": [],
   "source": [
    "(X_train_full, y_train_full), (X_test, y_test) = digit_mnist.load_data()\n",
    "X_train_n = X_train_full/255.\n",
    "X_test_n = X_test/255."
   ]
  },
  {
   "cell_type": "code",
   "execution_count": 5,
   "metadata": {},
   "outputs": [
    {
     "data": {
      "text/plain": [
       "(60000, 28, 28)"
      ]
     },
     "execution_count": 5,
     "metadata": {},
     "output_type": "execute_result"
    }
   ],
   "source": [
    "# plt.imshow(X_train_full[7])\n",
    "# X_train_full[1]\n",
    "X_train_n.shape"
   ]
  },
  {
   "cell_type": "code",
   "execution_count": 6,
   "metadata": {},
   "outputs": [],
   "source": [
    "X_valid, X_train = X_train_n[:6000], X_train_n[6000:]\n",
    "y_valid, y_train = y_train_full[:6000], y_train_full[6000:]\n",
    "X_test = X_test_n"
   ]
  },
  {
   "cell_type": "code",
   "execution_count": 7,
   "metadata": {},
   "outputs": [],
   "source": [
    "np.random.seed(42)\n",
    "tf.random.set_seed(42)"
   ]
  },
  {
   "cell_type": "code",
   "execution_count": 8,
   "metadata": {},
   "outputs": [],
   "source": [
    "model = keras.models.Sequential()\n",
    "model.add(keras.layers.Flatten(input_shape=[28, 28]))\n",
    "model.add(keras.layers.Dense(200, activation=\"relu\"))\n",
    "model.add(keras.layers.Dense(100, activation=\"relu\"))\n",
    "model.add(keras.layers.Dense(10, activation=\"softmax\"))"
   ]
  },
  {
   "cell_type": "code",
   "execution_count": 9,
   "metadata": {},
   "outputs": [
    {
     "name": "stdout",
     "output_type": "stream",
     "text": [
      "Model: \"sequential\"\n",
      "_________________________________________________________________\n",
      "Layer (type)                 Output Shape              Param #   \n",
      "=================================================================\n",
      "flatten (Flatten)            (None, 784)               0         \n",
      "_________________________________________________________________\n",
      "dense (Dense)                (None, 200)               157000    \n",
      "_________________________________________________________________\n",
      "dense_1 (Dense)              (None, 100)               20100     \n",
      "_________________________________________________________________\n",
      "dense_2 (Dense)              (None, 10)                1010      \n",
      "=================================================================\n",
      "Total params: 178,110\n",
      "Trainable params: 178,110\n",
      "Non-trainable params: 0\n",
      "_________________________________________________________________\n"
     ]
    }
   ],
   "source": [
    "model.summary()"
   ]
  },
  {
   "cell_type": "code",
   "execution_count": 10,
   "metadata": {},
   "outputs": [],
   "source": [
    "weights, biases = model.layers[1].get_weights()"
   ]
  },
  {
   "cell_type": "code",
   "execution_count": 11,
   "metadata": {
    "scrolled": true
   },
   "outputs": [
    {
     "data": {
      "text/plain": [
       "(200,)"
      ]
     },
     "execution_count": 11,
     "metadata": {},
     "output_type": "execute_result"
    }
   ],
   "source": [
    "biases.shape"
   ]
  },
  {
   "cell_type": "code",
   "execution_count": 12,
   "metadata": {},
   "outputs": [],
   "source": [
    "model.compile(loss=\"sparse_categorical_crossentropy\",\n",
    "             optimizer=\"sgd\",\n",
    "             metrics=[\"accuracy\"])"
   ]
  },
  {
   "cell_type": "code",
   "execution_count": 13,
   "metadata": {
    "scrolled": true
   },
   "outputs": [
    {
     "name": "stdout",
     "output_type": "stream",
     "text": [
      "Epoch 1/30\n",
      "1688/1688 [==============================] - 3s 2ms/step - loss: 1.1222 - accuracy: 0.6879 - val_loss: 0.3216 - val_accuracy: 0.9125\n",
      "Epoch 2/30\n",
      "1688/1688 [==============================] - 2s 1ms/step - loss: 0.3215 - accuracy: 0.9088 - val_loss: 0.2585 - val_accuracy: 0.9285\n",
      "Epoch 3/30\n",
      "1688/1688 [==============================] - 2s 1ms/step - loss: 0.2588 - accuracy: 0.9259 - val_loss: 0.2254 - val_accuracy: 0.9387\n",
      "Epoch 4/30\n",
      "1688/1688 [==============================] - 2s 1ms/step - loss: 0.2215 - accuracy: 0.9375 - val_loss: 0.1962 - val_accuracy: 0.9442\n",
      "Epoch 5/30\n",
      "1688/1688 [==============================] - 2s 1ms/step - loss: 0.1972 - accuracy: 0.9434 - val_loss: 0.1790 - val_accuracy: 0.9485\n",
      "Epoch 6/30\n",
      "1688/1688 [==============================] - 2s 1ms/step - loss: 0.1709 - accuracy: 0.9516 - val_loss: 0.1637 - val_accuracy: 0.9523\n",
      "Epoch 7/30\n",
      "1688/1688 [==============================] - 2s 1ms/step - loss: 0.1502 - accuracy: 0.9573 - val_loss: 0.1482 - val_accuracy: 0.9588\n",
      "Epoch 8/30\n",
      "1688/1688 [==============================] - 2s 1ms/step - loss: 0.1365 - accuracy: 0.9610 - val_loss: 0.1416 - val_accuracy: 0.9608\n",
      "Epoch 9/30\n",
      "1688/1688 [==============================] - 2s 1ms/step - loss: 0.1264 - accuracy: 0.9639 - val_loss: 0.1316 - val_accuracy: 0.9647\n",
      "Epoch 10/30\n",
      "1688/1688 [==============================] - 2s 1ms/step - loss: 0.1149 - accuracy: 0.9673 - val_loss: 0.1274 - val_accuracy: 0.9635\n",
      "Epoch 11/30\n",
      "1688/1688 [==============================] - 2s 1ms/step - loss: 0.1083 - accuracy: 0.9691 - val_loss: 0.1157 - val_accuracy: 0.9675\n",
      "Epoch 12/30\n",
      "1688/1688 [==============================] - 2s 1ms/step - loss: 0.0988 - accuracy: 0.9728 - val_loss: 0.1118 - val_accuracy: 0.9700\n",
      "Epoch 13/30\n",
      "1688/1688 [==============================] - 2s 1ms/step - loss: 0.0935 - accuracy: 0.9741 - val_loss: 0.1057 - val_accuracy: 0.9712\n",
      "Epoch 14/30\n",
      "1688/1688 [==============================] - 2s 1ms/step - loss: 0.0838 - accuracy: 0.9772 - val_loss: 0.1006 - val_accuracy: 0.9720\n",
      "Epoch 15/30\n",
      "1688/1688 [==============================] - 2s 1ms/step - loss: 0.0784 - accuracy: 0.9781 - val_loss: 0.0990 - val_accuracy: 0.9723\n",
      "Epoch 16/30\n",
      "1688/1688 [==============================] - 2s 1ms/step - loss: 0.0733 - accuracy: 0.9798 - val_loss: 0.0945 - val_accuracy: 0.9728\n",
      "Epoch 17/30\n",
      "1688/1688 [==============================] - 2s 1ms/step - loss: 0.0700 - accuracy: 0.9807 - val_loss: 0.0935 - val_accuracy: 0.9732\n",
      "Epoch 18/30\n",
      "1688/1688 [==============================] - 2s 1ms/step - loss: 0.0641 - accuracy: 0.9823 - val_loss: 0.0894 - val_accuracy: 0.9753\n",
      "Epoch 19/30\n",
      "1688/1688 [==============================] - 2s 1ms/step - loss: 0.0599 - accuracy: 0.9836 - val_loss: 0.0893 - val_accuracy: 0.9738\n",
      "Epoch 20/30\n",
      "1688/1688 [==============================] - 2s 1ms/step - loss: 0.0587 - accuracy: 0.9847 - val_loss: 0.0874 - val_accuracy: 0.9750\n",
      "Epoch 21/30\n",
      "1688/1688 [==============================] - 2s 1ms/step - loss: 0.0537 - accuracy: 0.9862 - val_loss: 0.0864 - val_accuracy: 0.9757\n",
      "Epoch 22/30\n",
      "1688/1688 [==============================] - 2s 1ms/step - loss: 0.0530 - accuracy: 0.9861 - val_loss: 0.0837 - val_accuracy: 0.9760\n",
      "Epoch 23/30\n",
      "1688/1688 [==============================] - 2s 1ms/step - loss: 0.0464 - accuracy: 0.9871 - val_loss: 0.0830 - val_accuracy: 0.9767\n",
      "Epoch 24/30\n",
      "1688/1688 [==============================] - 2s 1ms/step - loss: 0.0478 - accuracy: 0.9875 - val_loss: 0.0824 - val_accuracy: 0.9757\n",
      "Epoch 25/30\n",
      "1688/1688 [==============================] - 2s 1ms/step - loss: 0.0436 - accuracy: 0.9885 - val_loss: 0.0833 - val_accuracy: 0.9745\n",
      "Epoch 26/30\n",
      "1688/1688 [==============================] - 2s 1ms/step - loss: 0.0396 - accuracy: 0.9894 - val_loss: 0.0811 - val_accuracy: 0.9765\n",
      "Epoch 27/30\n",
      "1688/1688 [==============================] - 2s 1ms/step - loss: 0.0397 - accuracy: 0.9895 - val_loss: 0.0771 - val_accuracy: 0.9775\n",
      "Epoch 28/30\n",
      "1688/1688 [==============================] - 2s 1ms/step - loss: 0.0352 - accuracy: 0.9911 - val_loss: 0.0774 - val_accuracy: 0.9772\n",
      "Epoch 29/30\n",
      "1688/1688 [==============================] - 2s 1ms/step - loss: 0.0351 - accuracy: 0.9911 - val_loss: 0.0759 - val_accuracy: 0.9778\n",
      "Epoch 30/30\n",
      "1688/1688 [==============================] - 2s 1ms/step - loss: 0.0333 - accuracy: 0.9917 - val_loss: 0.0784 - val_accuracy: 0.9767\n"
     ]
    }
   ],
   "source": [
    "model_history = model.fit(X_train, y_train, epochs=30, validation_data=(X_valid, y_valid))"
   ]
  },
  {
   "cell_type": "code",
   "execution_count": 14,
   "metadata": {},
   "outputs": [
    {
     "data": {
      "text/plain": [
       "{'verbose': 1, 'epochs': 30, 'steps': 1688}"
      ]
     },
     "execution_count": 14,
     "metadata": {},
     "output_type": "execute_result"
    }
   ],
   "source": [
    "model_history.params"
   ]
  },
  {
   "cell_type": "code",
   "execution_count": 15,
   "metadata": {
    "scrolled": true
   },
   "outputs": [
    {
     "data": {
      "text/plain": [
       "{'loss': [0.6606810688972473,\n",
       "  0.3006494641304016,\n",
       "  0.24880272150039673,\n",
       "  0.21511541306972504,\n",
       "  0.18929407000541687,\n",
       "  0.16899797320365906,\n",
       "  0.1521173119544983,\n",
       "  0.1378244012594223,\n",
       "  0.12604959309101105,\n",
       "  0.11574776470661163,\n",
       "  0.10664829611778259,\n",
       "  0.09911969304084778,\n",
       "  0.09175663441419601,\n",
       "  0.08570145070552826,\n",
       "  0.08016057312488556,\n",
       "  0.07516741007566452,\n",
       "  0.070681132376194,\n",
       "  0.06594182550907135,\n",
       "  0.06245461106300354,\n",
       "  0.05875406786799431,\n",
       "  0.05553289130330086,\n",
       "  0.05248429253697395,\n",
       "  0.04958554357290268,\n",
       "  0.04682096466422081,\n",
       "  0.04429689422249794,\n",
       "  0.042031966149806976,\n",
       "  0.039840489625930786,\n",
       "  0.03781098872423172,\n",
       "  0.03579360991716385,\n",
       "  0.033864062279462814],\n",
       " 'accuracy': [0.8267222046852112,\n",
       "  0.9140740633010864,\n",
       "  0.9292222261428833,\n",
       "  0.9389259219169617,\n",
       "  0.9461666941642761,\n",
       "  0.9517592787742615,\n",
       "  0.9569629430770874,\n",
       "  0.9610370397567749,\n",
       "  0.9642592668533325,\n",
       "  0.967296302318573,\n",
       "  0.9698148369789124,\n",
       "  0.9723148345947266,\n",
       "  0.9746296405792236,\n",
       "  0.9765370488166809,\n",
       "  0.9777036905288696,\n",
       "  0.9794259071350098,\n",
       "  0.9806666374206543,\n",
       "  0.9819074273109436,\n",
       "  0.9828888773918152,\n",
       "  0.9841111302375793,\n",
       "  0.9851111173629761,\n",
       "  0.985962986946106,\n",
       "  0.9864073991775513,\n",
       "  0.9873703718185425,\n",
       "  0.9883518815040588,\n",
       "  0.9888148307800293,\n",
       "  0.9891666769981384,\n",
       "  0.9902036786079407,\n",
       "  0.9905370473861694,\n",
       "  0.9915370345115662],\n",
       " 'val_loss': [0.3216478228569031,\n",
       "  0.25853484869003296,\n",
       "  0.2253759354352951,\n",
       "  0.19616691768169403,\n",
       "  0.17900192737579346,\n",
       "  0.163682222366333,\n",
       "  0.14817330241203308,\n",
       "  0.14162282645702362,\n",
       "  0.13158684968948364,\n",
       "  0.12743601202964783,\n",
       "  0.11574449390172958,\n",
       "  0.11182503402233124,\n",
       "  0.10570618510246277,\n",
       "  0.10064537823200226,\n",
       "  0.09904941916465759,\n",
       "  0.09448665380477905,\n",
       "  0.0934678241610527,\n",
       "  0.0893605574965477,\n",
       "  0.08930735290050507,\n",
       "  0.08738969266414642,\n",
       "  0.08644198626279831,\n",
       "  0.08372757583856583,\n",
       "  0.08303788304328918,\n",
       "  0.08242952078580856,\n",
       "  0.08328069001436234,\n",
       "  0.08106192946434021,\n",
       "  0.07709133625030518,\n",
       "  0.07738359272480011,\n",
       "  0.07591413706541061,\n",
       "  0.0784463882446289],\n",
       " 'val_accuracy': [0.9125000238418579,\n",
       "  0.9284999966621399,\n",
       "  0.9386666417121887,\n",
       "  0.9441666603088379,\n",
       "  0.9484999775886536,\n",
       "  0.9523333311080933,\n",
       "  0.9588333368301392,\n",
       "  0.9608333110809326,\n",
       "  0.9646666646003723,\n",
       "  0.9635000228881836,\n",
       "  0.9674999713897705,\n",
       "  0.9700000286102295,\n",
       "  0.9711666703224182,\n",
       "  0.972000002861023,\n",
       "  0.9723333120346069,\n",
       "  0.9728333353996277,\n",
       "  0.9731666445732117,\n",
       "  0.9753333330154419,\n",
       "  0.9738333225250244,\n",
       "  0.9750000238418579,\n",
       "  0.9756666421890259,\n",
       "  0.9760000109672546,\n",
       "  0.9766666889190674,\n",
       "  0.9756666421890259,\n",
       "  0.9745000004768372,\n",
       "  0.9764999747276306,\n",
       "  0.9775000214576721,\n",
       "  0.9771666526794434,\n",
       "  0.9778333306312561,\n",
       "  0.9766666889190674]}"
      ]
     },
     "execution_count": 15,
     "metadata": {},
     "output_type": "execute_result"
    }
   ],
   "source": [
    "model_history.history"
   ]
  },
  {
   "cell_type": "code",
   "execution_count": 16,
   "metadata": {},
   "outputs": [
    {
     "data": {
      "image/png": "[encoded data removed]",
      "text/plain": [
       "<Figure size 576x360 with 1 Axes>"
      ]
     },
     "metadata": {
      "needs_background": "light"
     },
     "output_type": "display_data"
    }
   ],
   "source": [
    "pd.DataFrame(model_history.history).plot(figsize=(8, 5))\n",
    "plt.grid(True)\n",
    "plt.gca().set_ylim(0, 1)\n",
    "plt.show()\n",
    "# overall training parameters"
   ]
  },
  {
   "cell_type": "code",
   "execution_count": 17,
   "metadata": {},
   "outputs": [
    {
     "data": {
      "image/png": "[encoded data removed]",
      "text/plain": [
       "<Figure size 576x360 with 1 Axes>"
      ]
     },
     "metadata": {
      "needs_background": "light"
     },
     "output_type": "display_data"
    }
   ],
   "source": [
    "pd.DataFrame(model_history.history).plot(figsize=(8, 5))\n",
    "plt.grid(True)\n",
    "plt.gca().set_ylim(0.9, 1)\n",
    "plt.show()\n",
    "# accuracy convergence"
   ]
  },
  {
   "cell_type": "code",
   "execution_count": 18,
   "metadata": {},
   "outputs": [
    {
     "data": {
      "image/png": "[encoded data removed]",
      "text/plain": [
       "<Figure size 576x360 with 1 Axes>"
      ]
     },
     "metadata": {
      "needs_background": "light"
     },
     "output_type": "display_data"
    }
   ],
   "source": [
    "pd.DataFrame(model_history.history).plot(figsize=(8, 5))\n",
    "plt.grid(True)\n",
    "plt.gca().set_ylim(0, 0.1)\n",
    "plt.show()\n",
    "# error convergence"
   ]
  },
  {
   "cell_type": "code",
   "execution_count": 19,
   "metadata": {},
   "outputs": [
    {
     "name": "stdout",
     "output_type": "stream",
     "text": [
      "313/313 [==============================] - 0s 944us/step - loss: 0.0770 - accuracy: 0.9768\n"
     ]
    },
    {
     "data": {
      "text/plain": [
       "[0.07699082046747208, 0.9768000245094299]"
      ]
     },
     "execution_count": 19,
     "metadata": {},
     "output_type": "execute_result"
    }
   ],
   "source": [
    "model.evaluate(X_test, y_test)"
   ]
  },
  {
   "cell_type": "code",
   "execution_count": 20,
   "metadata": {},
   "outputs": [],
   "source": [
    "X_new = X_test[:5]"
   ]
  },
  {
   "cell_type": "code",
   "execution_count": 21,
   "metadata": {},
   "outputs": [
    {
     "data": {
      "text/plain": [
       "array([[0.  , 0.  , 0.  , 0.  , 0.  , 0.  , 0.  , 1.  , 0.  , 0.  ],\n",
       "       [0.  , 0.  , 1.  , 0.  , 0.  , 0.  , 0.  , 0.  , 0.  , 0.  ],\n",
       "       [0.  , 1.  , 0.  , 0.  , 0.  , 0.  , 0.  , 0.  , 0.  , 0.  ],\n",
       "       [1.  , 0.  , 0.  , 0.  , 0.  , 0.  , 0.  , 0.  , 0.  , 0.  ],\n",
       "       [0.  , 0.  , 0.  , 0.  , 0.99, 0.  , 0.  , 0.  , 0.  , 0.01]],\n",
       "      dtype=float32)"
      ]
     },
     "execution_count": 21,
     "metadata": {},
     "output_type": "execute_result"
    }
   ],
   "source": [
    "y_proba = model.predict(X_new)\n",
    "y_proba.round(2)"
   ]
  },
  {
   "cell_type": "code",
   "execution_count": 22,
   "metadata": {},
   "outputs": [
    {
     "name": "stderr",
     "output_type": "stream",
     "text": [
      "/usr/local/lib/python3.6/dist-packages/tensorflow/python/keras/engine/sequential.py:450: UserWarning: `model.predict_classes()` is deprecated and will be removed after 2021-01-01. Please use instead:* `np.argmax(model.predict(x), axis=-1)`,   if your model does multi-class classification   (e.g. if it uses a `softmax` last-layer activation).* `(model.predict(x) > 0.5).astype(\"int32\")`,   if your model does binary classification   (e.g. if it uses a `sigmoid` last-layer activation).\n",
      "  warnings.warn('`model.predict_classes()` is deprecated and '\n"
     ]
    },
    {
     "data": {
      "text/plain": [
       "array([7, 2, 1, 0, 4])"
      ]
     },
     "execution_count": 22,
     "metadata": {},
     "output_type": "execute_result"
    }
   ],
   "source": [
    "y_pred = model.predict_classes(X_new)\n",
    "y_pred"
   ]
  },
  {
   "cell_type": "code",
   "execution_count": 25,
   "metadata": {},
   "outputs": [
    {
     "data": {
      "text/plain": [
       "<matplotlib.image.AxesImage at 0x7f2abc5fc358>"
      ]
     },
     "execution_count": 25,
     "metadata": {},
     "output_type": "execute_result"
    },
    {
     "data": {
      "image/png": "[encoded data removed]",
      "text/plain": [
       "<Figure size 432x288 with 1 Axes>"
      ]
     },
     "metadata": {
      "needs_background": "light"
     },
     "output_type": "display_data"
    }
   ],
   "source": [
    "plt.imshow(X_new[0]) # should be 7"
   ]
  },
  {
   "cell_type": "code",
   "execution_count": null,
   "metadata": {},
   "outputs": [],
   "source": []
  },
  {
   "cell_type": "code",
   "execution_count": null,
   "metadata": {},
   "outputs": [],
   "source": []
  }
 ],
 "metadata": {
  "kernelspec": {
   "display_name": "Python 3",
   "language": "python",
   "name": "python3"
  },
  "language_info": {
   "codemirror_mode": {
    "name": "ipython",
    "version": 3
   },
   "file_extension": ".py",
   "mimetype": "text/x-python",
   "name": "python",
   "nbconvert_exporter": "python",
   "pygments_lexer": "ipython3",
   "version": "3.6.9"
  }
 },
 "nbformat": 4,
 "nbformat_minor": 2
}

